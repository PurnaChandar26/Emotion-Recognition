{
 "cells": [
  {
   "cell_type": "code",
   "execution_count": null,
   "id": "4238774f",
   "metadata": {},
   "outputs": [],
   "source": [
    "import cv2\n",
    "import face_recognition\n",
    "import os\n",
    "import math\n",
    "import numpy\n",
    "from datetime import datetime\n",
    "from deepface import DeepFace\n",
    "import csv"
   ]
  },
  {
   "cell_type": "code",
   "execution_count": null,
   "id": "ae61661e",
   "metadata": {},
   "outputs": [],
   "source": [
    "allPaths = os.listdir(\"./class_data\")\n",
    "allNames = []\n",
    "allRegNumbers = []\n",
    "allEncodings = []\n",
    "for index in range(len(allPaths)):\n",
    "    allNames.append(allPaths[index].split(\".\")[0])\n",
    "    allRegNumbers.append(allPaths[index].split(\".\")[1])\n",
    "    image = face_recognition.load_image_file(\"./class_data/\" + allPaths[index])\n",
    "    temp = face_recognition.face_encodings(image)[0]\n",
    "    allEncodings.append(temp)"
   ]
  },
  {
   "cell_type": "code",
   "execution_count": null,
   "id": "f81b70d0",
   "metadata": {},
   "outputs": [],
   "source": [
    "cap = cv2.VideoCapture(1)\n",
    "\n",
    "if not cap.isOpened():\n",
    "    cap = cv2.VideoCapture(0)\n",
    "if not cap.isOpened():\n",
    "    raise IOError(\"cannot open webcam\")"
   ]
  },
  {
   "cell_type": "code",
   "execution_count": 1,
   "id": "bbb14f0e",
   "metadata": {},
   "outputs": [
    {
     "ename": "NameError",
     "evalue": "name 'cap' is not defined",
     "output_type": "error",
     "traceback": [
      "\u001b[1;31m---------------------------------------------------------------------------\u001b[0m",
      "\u001b[1;31mNameError\u001b[0m                                 Traceback (most recent call last)",
      "\u001b[1;32m~\\AppData\\Local\\Temp/ipykernel_10280/918410055.py\u001b[0m in \u001b[0;36m<module>\u001b[1;34m\u001b[0m\n\u001b[0;32m      4\u001b[0m \u001b[1;33m\u001b[0m\u001b[0m\n\u001b[0;32m      5\u001b[0m     \u001b[1;32mwhile\u001b[0m \u001b[1;32mTrue\u001b[0m\u001b[1;33m:\u001b[0m\u001b[1;33m\u001b[0m\u001b[1;33m\u001b[0m\u001b[0m\n\u001b[1;32m----> 6\u001b[1;33m         \u001b[0msuccess\u001b[0m\u001b[1;33m,\u001b[0m \u001b[0mimg\u001b[0m \u001b[1;33m=\u001b[0m \u001b[0mcap\u001b[0m\u001b[1;33m.\u001b[0m\u001b[0mread\u001b[0m\u001b[1;33m(\u001b[0m\u001b[1;33m)\u001b[0m\u001b[1;33m\u001b[0m\u001b[1;33m\u001b[0m\u001b[0m\n\u001b[0m\u001b[0;32m      7\u001b[0m         \u001b[0mimgS\u001b[0m \u001b[1;33m=\u001b[0m \u001b[0mcv2\u001b[0m\u001b[1;33m.\u001b[0m\u001b[0mresize\u001b[0m\u001b[1;33m(\u001b[0m\u001b[0mimg\u001b[0m\u001b[1;33m,\u001b[0m \u001b[1;33m(\u001b[0m\u001b[1;36m0\u001b[0m\u001b[1;33m,\u001b[0m\u001b[1;36m0\u001b[0m\u001b[1;33m)\u001b[0m\u001b[1;33m,\u001b[0m \u001b[1;32mNone\u001b[0m\u001b[1;33m,\u001b[0m \u001b[1;36m0.25\u001b[0m\u001b[1;33m,\u001b[0m \u001b[1;36m0.25\u001b[0m\u001b[1;33m)\u001b[0m\u001b[1;33m\u001b[0m\u001b[1;33m\u001b[0m\u001b[0m\n\u001b[0;32m      8\u001b[0m         \u001b[0mimgS\u001b[0m \u001b[1;33m=\u001b[0m \u001b[0mcv2\u001b[0m\u001b[1;33m.\u001b[0m\u001b[0mcvtColor\u001b[0m\u001b[1;33m(\u001b[0m\u001b[0mimgS\u001b[0m\u001b[1;33m,\u001b[0m \u001b[0mcv2\u001b[0m\u001b[1;33m.\u001b[0m\u001b[0mCOLOR_BGR2RGB\u001b[0m\u001b[1;33m)\u001b[0m\u001b[1;33m\u001b[0m\u001b[1;33m\u001b[0m\u001b[0m\n",
      "\u001b[1;31mNameError\u001b[0m: name 'cap' is not defined"
     ]
    }
   ],
   "source": [
    "prev_emotion = 'normal'\n",
    "with open('./Attendance.csv', 'w') as file:\n",
    "    file.write('time, regno, name, emotion\\n')\n",
    "\n",
    "    while True:\n",
    "        success, img = cap.read()\n",
    "        imgS = cv2.resize(img, (0,0), None, 0.25, 0.25)\n",
    "        imgS = cv2.cvtColor(imgS, cv2.COLOR_BGR2RGB)\n",
    "\n",
    "        result = DeepFace.analyze(imgS, actions = ['emotion'], enforce_detection=False)\n",
    "    #     print(result['dominant_emotion'])\n",
    "\n",
    "        facesInFrame = face_recognition.face_locations(imgS)\n",
    "\n",
    "        encodeInFrame = face_recognition.face_encodings(imgS,facesInFrame)\n",
    "\n",
    "        for endodeFaces, faceLoc in zip(encodeInFrame, facesInFrame):\n",
    "            ismatched = face_recognition.compare_faces(allEncodings, endodeFaces)\n",
    "            faceDis = face_recognition.face_distance(allEncodings, endodeFaces)\n",
    "            try:\n",
    "                bestMatchIndex = numpy.argmin(faceDis)\n",
    "            except ValueError as ve:\n",
    "                print(ve)\n",
    "                continue\n",
    "\n",
    "            if ismatched[bestMatchIndex]:\n",
    "                matchedName = allNames[bestMatchIndex]\n",
    "\n",
    "                current_emotion = result['dominant_emotion']\n",
    "                if current_emotion != prev_emotion and current_emotion != 'neutral':\n",
    "#                     mark_inattentive(allRegNumbers[bestMatchIndex], matchedName, result['dominant_emotion'])\n",
    "                    file.write(f'{datetime.now()}, {allRegNumbers[bestMatchIndex]}, {matchedName}, {result[\"dominant_emotion\"]}\\n')\n",
    "                    print(f'{datetime.now()}, {allRegNumbers[bestMatchIndex]}, {matchedName}, {result[\"dominant_emotion\"]}')\n",
    "                    prev_emotion = result['dominant_emotion']\n",
    "\n",
    "                x1, x2, y1, y2 = faceLoc\n",
    "                x1, x2, y1, y2 = x1*4, x2*4, y1*4, y2*4  \n",
    "                cv2.rectangle(img, (x1,y1), (x2,y2),(0,255,0),2)\n",
    "                cv2.putText(img,matchedName,(x1+6,y1-6),cv2.FONT_HERSHEY_COMPLEX,1,(255, 255, 255),2)\n",
    "\n",
    "        cv2.imshow('video', img)\n",
    "\n",
    "        if cv2.waitKey(2) & 0xFF == ord('q'):\n",
    "            break\n",
    "        \n",
    "cap.release()\n",
    "cv2.destroyAllWindows()"
   ]
  },
  {
   "cell_type": "code",
   "execution_count": null,
   "id": "484423a6",
   "metadata": {},
   "outputs": [],
   "source": []
  }
 ],
 "metadata": {
  "kernelspec": {
   "display_name": "Python 3 (ipykernel)",
   "language": "python",
   "name": "python3"
  },
  "language_info": {
   "codemirror_mode": {
    "name": "ipython",
    "version": 3
   },
   "file_extension": ".py",
   "mimetype": "text/x-python",
   "name": "python",
   "nbconvert_exporter": "python",
   "pygments_lexer": "ipython3",
   "version": "3.9.7"
  }
 },
 "nbformat": 4,
 "nbformat_minor": 5
}
